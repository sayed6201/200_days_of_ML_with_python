{
 "cells": [
  {
   "cell_type": "markdown",
   "metadata": {},
   "source": [
    "# Statistics Notebook\n",
    "### Topics:\n",
    "Mean, Median, Mode, NumPy, Variance, Satndard Deviation"
   ]
  },
  {
   "cell_type": "markdown",
   "metadata": {},
   "source": [
    "## Mean vs. Median"
   ]
  },
  {
   "cell_type": "markdown",
   "metadata": {},
   "source": [
    "Let's create some fake income data, centered around 27,000 with a normal distribution and standard deviation of 15,000, with 10,000 data points. (We'll discuss those terms more later, if you're not familiar with them.)\n",
    "\n",
    "Then, compute the mean (average) - it should be close to 27,000:"
   ]
  },
  {
   "cell_type": "code",
   "execution_count": 15,
   "metadata": {},
   "outputs": [
    {
     "data": {
      "text/plain": [
       "27275.644518425255"
      ]
     },
     "execution_count": 15,
     "metadata": {},
     "output_type": "execute_result"
    }
   ],
   "source": [
    "import numpy as np\n",
    "\n",
    "incomes = np.random.normal(27000, 15000, 10000)\n",
    "# average = 27,000. standard dev = 15000. N = 10k\n",
    "np.mean(incomes)"
   ]
  },
  {
   "cell_type": "markdown",
   "metadata": {},
   "source": [
    "We can segment the income data into 50 buckets, and plot it as a histogram:"
   ]
  },
  {
   "cell_type": "code",
   "execution_count": 18,
   "metadata": {},
   "outputs": [
    {
     "data": {
      "image/png": "[encoded data removed]",
      "text/plain": [
       "<Figure size 432x288 with 1 Axes>"
      ]
     },
     "metadata": {},
     "output_type": "display_data"
    }
   ],
   "source": [
    "%matplotlib inline\n",
    "import matplotlib.pyplot as plt\n",
    "plt.hist(incomes, 100)\n",
    "plt.show()"
   ]
  },
  {
   "cell_type": "markdown",
   "metadata": {},
   "source": [
    "Now compute the median - since we have a nice, even distribution it too should be close to 27,000:"
   ]
  },
  {
   "cell_type": "code",
   "execution_count": 3,
   "metadata": {},
   "outputs": [
    {
     "data": {
      "text/plain": [
       "26891.56982881893"
      ]
     },
     "execution_count": 3,
     "metadata": {},
     "output_type": "execute_result"
    }
   ],
   "source": [
    "np.median(incomes)"
   ]
  },
  {
   "cell_type": "markdown",
   "metadata": {},
   "source": [
    "#### Adding Outliers changes average but median indicate center point\n",
    "Now we'll add Donald Trump into the mix. Darn income inequality!"
   ]
  },
  {
   "cell_type": "code",
   "execution_count": 4,
   "metadata": {},
   "outputs": [],
   "source": [
    "incomes = np.append(incomes, [1000000000])"
   ]
  },
  {
   "cell_type": "markdown",
   "metadata": {},
   "source": [
    "The median won't change much, but the mean does:"
   ]
  },
  {
   "cell_type": "code",
   "execution_count": 5,
   "metadata": {},
   "outputs": [
    {
     "data": {
      "text/plain": [
       "26893.61279193568"
      ]
     },
     "execution_count": 5,
     "metadata": {},
     "output_type": "execute_result"
    }
   ],
   "source": [
    "np.median(incomes)"
   ]
  },
  {
   "cell_type": "code",
   "execution_count": 6,
   "metadata": {},
   "outputs": [
    {
     "data": {
      "text/plain": [
       "126971.87431932072"
      ]
     },
     "execution_count": 6,
     "metadata": {},
     "output_type": "execute_result"
    }
   ],
   "source": [
    "np.mean(incomes)"
   ]
  },
  {
   "cell_type": "markdown",
   "metadata": {},
   "source": [
    "## Mode"
   ]
  },
  {
   "cell_type": "markdown",
   "metadata": {},
   "source": [
    "Next, let's generate some fake age data for 500 people:"
   ]
  },
  {
   "cell_type": "code",
   "execution_count": 7,
   "metadata": {},
   "outputs": [
    {
     "data": {
      "text/plain": [
       "array([72, 78, 79, 70, 73, 31, 55, 54, 63, 82, 89, 23, 83, 76, 79, 57, 87,\n",
       "       53, 71, 18, 56, 43, 51, 73, 81, 76, 32, 49, 72, 35, 86, 32, 26, 78,\n",
       "       19, 89, 75, 85, 37, 78, 45, 20, 48, 23, 63, 35, 76, 81, 84, 44, 44,\n",
       "       54, 88, 71, 85, 47, 49, 87, 65, 74, 28, 31, 21, 21, 33, 32, 64, 61,\n",
       "       19, 26, 52, 36, 41, 34, 44, 34, 81, 85, 21, 37, 28, 65, 33, 77, 76,\n",
       "       46, 22, 54, 72, 38, 32, 86, 41, 28, 60, 85, 64, 47, 54, 66, 78, 52,\n",
       "       18, 76, 44, 68, 54, 77, 83, 63, 88, 21, 23, 53, 72, 58, 71, 18, 71,\n",
       "       40, 60, 81, 77, 19, 55, 81, 42, 25, 76, 73, 21, 69, 42, 18, 30, 85,\n",
       "       46, 34, 70, 85, 74, 88, 88, 35, 24, 39, 73, 84, 52, 39, 84, 34, 37,\n",
       "       62, 78, 19, 75, 26, 74, 79, 48, 31, 58, 44, 52, 65, 24, 66, 70, 87,\n",
       "       49, 25, 24, 22, 44, 52, 43, 84, 39, 47, 54, 68, 25, 25, 79, 69, 55,\n",
       "       50, 69, 28, 39, 20, 41, 66, 88, 71, 45, 66, 45, 44, 60, 80, 59, 78,\n",
       "       23, 39, 79, 79, 55, 36, 85, 18, 25, 82, 55, 48, 30, 70, 29, 64, 59,\n",
       "       34, 45, 46, 82, 66, 77, 76, 62, 21, 73, 59, 52, 32, 31, 67, 44, 65,\n",
       "       53, 50, 44, 76, 83, 26, 42, 80, 50, 72, 35, 46, 89, 44, 45, 19, 73,\n",
       "       28, 85, 50, 69, 89, 54, 88, 23, 49, 38, 58, 24, 40, 35, 31, 42, 31,\n",
       "       30, 76, 23, 28, 26, 76, 31, 60, 33, 67, 44, 21, 41, 65, 52, 55, 82,\n",
       "       57, 69, 26, 79, 26, 63, 80, 51, 20, 42, 39, 55, 18, 39, 71, 25, 37,\n",
       "       27, 45, 68, 56, 19, 52, 51, 80, 87, 23, 40, 86, 58, 18, 29, 88, 81,\n",
       "       30, 61, 26, 72, 48, 43, 88, 86, 76, 86, 73, 89, 68, 18, 59, 57, 57,\n",
       "       26, 41, 33, 36, 50, 24, 80, 72, 40, 28, 45, 44, 71, 82, 54, 20, 35,\n",
       "       63, 31, 32, 53, 81, 19, 78, 81, 79, 51, 58, 36, 67, 34, 82, 71, 73,\n",
       "       25, 55, 48, 19, 72, 79, 70, 89, 65, 36, 31, 67, 82, 84, 78, 21, 65,\n",
       "       58, 84, 47, 29, 53, 53, 19, 40, 24, 31, 88, 31, 75, 50, 56, 60, 31,\n",
       "       58, 79, 35, 40, 19, 46, 75, 33, 45, 28, 87, 87, 23, 47, 61, 71, 78,\n",
       "       40, 80, 20, 56, 84, 30, 73, 31, 85, 81, 26, 39, 21, 57, 30, 73, 29,\n",
       "       26, 79, 69, 28, 49, 40, 70, 30, 85, 25, 20, 86, 85, 66, 87, 53, 49,\n",
       "       38, 26, 33, 71, 49, 43, 50, 44, 45, 50, 24, 62, 52, 56, 35, 68, 61,\n",
       "       26, 53, 43, 43, 39, 25, 24, 35, 82, 58, 47, 77, 28, 51, 68, 26, 52,\n",
       "       23, 78, 38, 60, 85, 20, 32])"
      ]
     },
     "execution_count": 7,
     "metadata": {},
     "output_type": "execute_result"
    }
   ],
   "source": [
    "ages = np.random.randint(18, high=90, size=500)\n",
    "ages"
   ]
  },
  {
   "cell_type": "code",
   "execution_count": 8,
   "metadata": {},
   "outputs": [
    {
     "data": {
      "text/plain": [
       "ModeResult(mode=array([26]), count=array([14]))"
      ]
     },
     "execution_count": 8,
     "metadata": {},
     "output_type": "execute_result"
    }
   ],
   "source": [
    "from scipy import stats\n",
    "stats.mode(ages)"
   ]
  },
  {
   "cell_type": "markdown",
   "metadata": {},
   "source": [
    "## Standard Dev Vs Variance"
   ]
  },
  {
   "cell_type": "code",
   "execution_count": 13,
   "metadata": {},
   "outputs": [
    {
     "data": {
      "text/plain": [
       "9998741.557795564"
      ]
     },
     "execution_count": 13,
     "metadata": {},
     "output_type": "execute_result"
    }
   ],
   "source": [
    "#standard deviation\n",
    "incomes.std()"
   ]
  },
  {
   "cell_type": "code",
   "execution_count": 14,
   "metadata": {},
   "outputs": [
    {
     "data": {
      "text/plain": [
       "99974832739588.05"
      ]
     },
     "execution_count": 14,
     "metadata": {},
     "output_type": "execute_result"
    }
   ],
   "source": [
    "#variance\n",
    "incomes.var()"
   ]
  },
  {
   "cell_type": "code",
   "execution_count": null,
   "metadata": {},
   "outputs": [],
   "source": []
  }
 ],
 "metadata": {
  "kernelspec": {
   "display_name": "Python 3",
   "language": "python",
   "name": "python3"
  },
  "language_info": {
   "codemirror_mode": {
    "name": "ipython",
    "version": 3
   },
   "file_extension": ".py",
   "mimetype": "text/x-python",
   "name": "python",
   "nbconvert_exporter": "python",
   "pygments_lexer": "ipython3",
   "version": "3.6.5"
  }
 },
 "nbformat": 4,
 "nbformat_minor": 1
}
